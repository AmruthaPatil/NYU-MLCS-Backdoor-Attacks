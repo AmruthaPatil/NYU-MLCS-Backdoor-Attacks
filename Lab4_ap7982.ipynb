{
 "cells": [
  {
   "cell_type": "markdown",
   "metadata": {},
   "source": [
    "# Machine Learning for Cyber Security \n",
    "## Backdoor Attacks Assignment\n",
    "By Amrutha Patil (ap7982)"
   ]
  },
  {
   "cell_type": "markdown",
   "metadata": {},
   "source": [
    "Import Packages"
   ]
  },
  {
   "cell_type": "code",
   "execution_count": 1,
   "metadata": {
    "id": "vB7W4IALFRCS"
   },
   "outputs": [],
   "source": [
    "import pandas as pd\n",
    "import numpy as np\n",
    "import seaborn as sns\n",
    "import matplotlib.pyplot as plt\n",
    "import sys\n",
    "import keras\n",
    "import h5py\n",
    "from tqdm import tqdm\n",
    "import warnings\n",
    "warnings.filterwarnings(\"ignore\")"
   ]
  },
  {
   "cell_type": "markdown",
   "metadata": {},
   "source": [
    "## BadNets trained on the YouTube Face dataset"
   ]
  },
  {
   "cell_type": "markdown",
   "metadata": {},
   "source": [
    "### Inputs"
   ]
  },
  {
   "cell_type": "markdown",
   "metadata": {},
   "source": [
    "1. B, a backdoored neural network classifier with N classes, called 'badnet_model'\n",
    "2. Dvalid, a validation dataset of clean, labelled images, called 'clean_valid_path' and 'poisoned_valid_path'"
   ]
  },
  {
   "cell_type": "code",
   "execution_count": 2,
   "metadata": {},
   "outputs": [],
   "source": [
    "# Importing the validation dataset of clean images and poisoned images\n",
    "clean_valid_path = 'C:/Users/DR.JAIRAJ/OneDrive/Documents/MLCSLab4/Lab4/data/cl/valid.h5'\n",
    "clean_test_path = 'C:/Users/DR.JAIRAJ/OneDrive/Documents/MLCSLab4/Lab4/data/cl/test.h5'\n",
    "poisoned_valid_path = 'C:/Users/DR.JAIRAJ/OneDrive/Documents/MLCSLab4/Lab4/data/bd/bd_valid.h5'\n",
    "poisoned_test_path = 'C:/Users/DR.JAIRAJ/OneDrive/Documents/MLCSLab4/Lab4/data/bd/bd_test.h5'\n",
    "# Importing the backdoored neural network classifier with N classes\n",
    "badnet_model = 'C:/Users/DR.JAIRAJ/OneDrive/Documents/MLCSLab4/Lab4/model/bd_net.h5'"
   ]
  },
  {
   "cell_type": "code",
   "execution_count": 3,
   "metadata": {},
   "outputs": [],
   "source": [
    "# Function to load the data\n",
    "def load_data(filepath):\n",
    "    with h5py.File(filepath, 'r') as data:\n",
    "        x_data = np.array(data['data']).transpose((0, 2, 3, 1))\n",
    "        y_data = np.array(data['label'])\n",
    "    return x_data, y_data"
   ]
  },
  {
   "cell_type": "code",
   "execution_count": 4,
   "metadata": {},
   "outputs": [],
   "source": [
    "# Plotting random images from dataset\n",
    "def plot_random_images(x_data, y_data, num_rows=2, num_cols=4):\n",
    "    figure, axes = plt.subplots(num_rows, num_cols, figsize=(12, 6))\n",
    "    figure.subplots_adjust(hspace=0.3, wspace=0.1)\n",
    "    num_images = num_rows * num_cols\n",
    "    indices = np.random.choice(x_data.shape[0], size=num_images, replace=False)\n",
    "    for i, index in enumerate(indices):\n",
    "        row = i // num_cols\n",
    "        col = i % num_cols\n",
    "        axes[row, col].imshow(x_data[index] / 255)\n",
    "        axes[row, col].set_title(\"True Label: {}\".format(y_data[index]))\n",
    "        axes[row, col].axis('off')\n",
    "    plt.show()"
   ]
  },
  {
   "cell_type": "markdown",
   "metadata": {},
   "source": [
    "Load and visualize the model "
   ]
  },
  {
   "cell_type": "code",
   "execution_count": 5,
   "metadata": {},
   "outputs": [],
   "source": [
    "# Function to load the model\n",
    "def load_model(model_path):\n",
    "    return keras.models.load_model(model_path)"
   ]
  },
  {
   "cell_type": "code",
   "execution_count": 6,
   "metadata": {
    "id": "CbiGGU1-rlXq"
   },
   "outputs": [
    {
     "name": "stdout",
     "output_type": "stream",
     "text": [
      "Model: \"model_1\"\n",
      "__________________________________________________________________________________________________\n",
      " Layer (type)                Output Shape                 Param #   Connected to                  \n",
      "==================================================================================================\n",
      " input (InputLayer)          [(None, 55, 47, 3)]          0         []                            \n",
      "                                                                                                  \n",
      " conv_1 (Conv2D)             (None, 52, 44, 20)           980       ['input[0][0]']               \n",
      "                                                                                                  \n",
      " pool_1 (MaxPooling2D)       (None, 26, 22, 20)           0         ['conv_1[0][0]']              \n",
      "                                                                                                  \n",
      " conv_2 (Conv2D)             (None, 24, 20, 40)           7240      ['pool_1[0][0]']              \n",
      "                                                                                                  \n",
      " pool_2 (MaxPooling2D)       (None, 12, 10, 40)           0         ['conv_2[0][0]']              \n",
      "                                                                                                  \n",
      " conv_3 (Conv2D)             (None, 10, 8, 60)            21660     ['pool_2[0][0]']              \n",
      "                                                                                                  \n",
      " pool_3 (MaxPooling2D)       (None, 5, 4, 60)             0         ['conv_3[0][0]']              \n",
      "                                                                                                  \n",
      " conv_4 (Conv2D)             (None, 4, 3, 80)             19280     ['pool_3[0][0]']              \n",
      "                                                                                                  \n",
      " flatten_1 (Flatten)         (None, 1200)                 0         ['pool_3[0][0]']              \n",
      "                                                                                                  \n",
      " flatten_2 (Flatten)         (None, 960)                  0         ['conv_4[0][0]']              \n",
      "                                                                                                  \n",
      " fc_1 (Dense)                (None, 160)                  192160    ['flatten_1[0][0]']           \n",
      "                                                                                                  \n",
      " fc_2 (Dense)                (None, 160)                  153760    ['flatten_2[0][0]']           \n",
      "                                                                                                  \n",
      " add_1 (Add)                 (None, 160)                  0         ['fc_1[0][0]',                \n",
      "                                                                     'fc_2[0][0]']                \n",
      "                                                                                                  \n",
      " activation_1 (Activation)   (None, 160)                  0         ['add_1[0][0]']               \n",
      "                                                                                                  \n",
      " output (Dense)              (None, 1283)                 206563    ['activation_1[0][0]']        \n",
      "                                                                                                  \n",
      "==================================================================================================\n",
      "Total params: 601643 (2.30 MB)\n",
      "Trainable params: 601643 (2.30 MB)\n",
      "Non-trainable params: 0 (0.00 Byte)\n",
      "__________________________________________________________________________________________________\n",
      "None\n"
     ]
    }
   ],
   "source": [
    "# Load the badnet model\n",
    "model = load_model(badnet_model)\n",
    "print(model.summary())"
   ]
  },
  {
   "cell_type": "markdown",
   "metadata": {},
   "source": [
    "Note: Note that the output layer has a shape of (None, 1283), signifying that for our use, the value of (N+1)=1283"
   ]
  },
  {
   "cell_type": "markdown",
   "metadata": {},
   "source": [
    "Load and visualize the validation dataset"
   ]
  },
  {
   "cell_type": "code",
   "execution_count": 7,
   "metadata": {
    "id": "KA-qTntdf1R8"
   },
   "outputs": [
    {
     "data": {
      "image/png": "[encoded data removed]",
      "text/plain": [
       "<Figure size 1200x600 with 8 Axes>"
      ]
     },
     "metadata": {},
     "output_type": "display_data"
    }
   ],
   "source": [
    "# Load clean validation dataset\n",
    "cl_x_valid, cl_y_valid = load_data(clean_valid_path)\n",
    "plot_random_images(cl_x_valid, cl_y_valid)"
   ]
  },
  {
   "cell_type": "code",
   "execution_count": 8,
   "metadata": {},
   "outputs": [
    {
     "data": {
      "image/png": "[encoded data removed]",
      "text/plain": [
       "<Figure size 1200x600 with 8 Axes>"
      ]
     },
     "metadata": {},
     "output_type": "display_data"
    }
   ],
   "source": [
    "# Load poisoned validation dataset\n",
    "bd_x_valid, bd_y_valid = load_data(poisoned_valid_path)\n",
    "plot_random_images(bd_x_valid, bd_y_valid)"
   ]
  },
  {
   "cell_type": "markdown",
   "metadata": {},
   "source": [
    "Evalauate the original badnet model and validation dataset "
   ]
  },
  {
   "cell_type": "code",
   "execution_count": 9,
   "metadata": {},
   "outputs": [],
   "source": [
    "# Function to evalauate the original badnet\n",
    "def evaluate_original_badnet(cl_x,cl_y,bd_x, bd_y, model):\n",
    "    cl_y_predict = np.argmax(model.predict(cl_x, verbose=0), axis=1)\n",
    "    cl_accuracy = np.mean(np.equal(cl_y_predict, cl_y)) * 100\n",
    "    bd_y_predict = np.argmax(model.predict(bd_x, verbose=0), axis=1)\n",
    "    bd_asr = np.mean(np.equal(bd_y_predict, bd_y)) * 100\n",
    "    return cl_accuracy, bd_asr"
   ]
  },
  {
   "cell_type": "code",
   "execution_count": 10,
   "metadata": {},
   "outputs": [
    {
     "name": "stdout",
     "output_type": "stream",
     "text": [
      "Clean Validation Data - Classification Accuracy: 98.64899974019225\n",
      "Poisoned Validation Data - Attack Success Rate: 100.0\n"
     ]
    }
   ],
   "source": [
    "cl_accuracy, bd_asr = evaluate_original_badnet(cl_x_valid,cl_y_valid,bd_x_valid, bd_y_valid, model)\n",
    "print('Clean Validation Data - Classification Accuracy:', cl_accuracy)\n",
    "print('Poisoned Validation Data - Attack Success Rate:', bd_asr)\n",
    "keras.backend.clear_session()"
   ]
  },
  {
   "cell_type": "markdown",
   "metadata": {},
   "source": [
    "## Repaired BadNet"
   ]
  },
  {
   "cell_type": "markdown",
   "metadata": {},
   "source": [
    "Pruning the last pooling layer of BadNet B model,  by removing one channel at a time from that layer untill the validation accuracy drops atleast X% (X=2,4,10) below the original accuracy. This generates the new network - B` models, and they are called repair_network_2, repair_network_4, repair_network_10 respectively."
   ]
  },
  {
   "cell_type": "code",
   "execution_count": 11,
   "metadata": {},
   "outputs": [
    {
     "name": "stdout",
     "output_type": "stream",
     "text": [
      "361/361 [==============================] - 6s 15ms/step\n"
     ]
    },
    {
     "name": "stderr",
     "output_type": "stream",
     "text": [
      "\r",
      "  0%|                                                                                           | 0/60 [00:00<?, ?it/s]"
     ]
    },
    {
     "name": "stdout",
     "output_type": "stream",
     "text": [
      "361/361 [==============================] - 5s 15ms/step\n",
      "361/361 [==============================] - 5s 14ms/step\n"
     ]
    },
    {
     "name": "stderr",
     "output_type": "stream",
     "text": [
      "\r",
      "  2%|█▍                                                                                 | 1/60 [00:14<14:15, 14.50s/it]"
     ]
    },
    {
     "name": "stdout",
     "output_type": "stream",
     "text": [
      "\n",
      "-------------------------------------------------------------------\n",
      "\n",
      "Pruned Channel Index: 0\n",
      "Clean Data - Accuracy: 98.64899974019225\n",
      "Poisoned Data - Attack Success Rate: 100.0\n",
      "361/361 [==============================] - 7s 17ms/step\n",
      "361/361 [==============================] - 6s 16ms/step\n"
     ]
    },
    {
     "name": "stderr",
     "output_type": "stream",
     "text": [
      "\r",
      "  3%|██▊                                                                                | 2/60 [00:30<15:04, 15.60s/it]"
     ]
    },
    {
     "name": "stdout",
     "output_type": "stream",
     "text": [
      "\n",
      "-------------------------------------------------------------------\n",
      "\n",
      "Pruned Channel Index: 26\n",
      "Clean Data - Accuracy: 98.64899974019225\n",
      "Poisoned Data - Attack Success Rate: 100.0\n",
      "361/361 [==============================] - 5s 15ms/step\n",
      "361/361 [==============================] - 6s 16ms/step\n"
     ]
    },
    {
     "name": "stderr",
     "output_type": "stream",
     "text": [
      "\r",
      "  5%|████▏                                                                              | 3/60 [00:45<14:12, 14.96s/it]"
     ]
    },
    {
     "name": "stdout",
     "output_type": "stream",
     "text": [
      "\n",
      "-------------------------------------------------------------------\n",
      "\n",
      "Pruned Channel Index: 27\n",
      "Clean Data - Accuracy: 98.64899974019225\n",
      "Poisoned Data - Attack Success Rate: 100.0\n",
      "361/361 [==============================] - 6s 17ms/step\n",
      "361/361 [==============================] - 5s 14ms/step\n"
     ]
    },
    {
     "name": "stderr",
     "output_type": "stream",
     "text": [
      "\r",
      "  7%|█████▌                                                                             | 4/60 [00:59<13:55, 14.91s/it]"
     ]
    },
    {
     "name": "stdout",
     "output_type": "stream",
     "text": [
      "\n",
      "-------------------------------------------------------------------\n",
      "\n",
      "Pruned Channel Index: 30\n",
      "Clean Data - Accuracy: 98.64899974019225\n",
      "Poisoned Data - Attack Success Rate: 100.0\n",
      "361/361 [==============================] - 5s 14ms/step\n",
      "361/361 [==============================] - 6s 15ms/step\n"
     ]
    },
    {
     "name": "stderr",
     "output_type": "stream",
     "text": [
      "\r",
      "  8%|██████▉                                                                            | 5/60 [01:12<12:58, 14.15s/it]"
     ]
    },
    {
     "name": "stdout",
     "output_type": "stream",
     "text": [
      "\n",
      "-------------------------------------------------------------------\n",
      "\n",
      "Pruned Channel Index: 31\n",
      "Clean Data - Accuracy: 98.64899974019225\n",
      "Poisoned Data - Attack Success Rate: 100.0\n",
      "361/361 [==============================] - 5s 14ms/step\n",
      "361/361 [==============================] - 4s 12ms/step\n"
     ]
    },
    {
     "name": "stderr",
     "output_type": "stream",
     "text": [
      "\r",
      " 10%|████████▎                                                                          | 6/60 [01:24<12:00, 13.33s/it]"
     ]
    },
    {
     "name": "stdout",
     "output_type": "stream",
     "text": [
      "\n",
      "-------------------------------------------------------------------\n",
      "\n",
      "Pruned Channel Index: 33\n",
      "Clean Data - Accuracy: 98.64899974019225\n",
      "Poisoned Data - Attack Success Rate: 100.0\n",
      "361/361 [==============================] - 5s 15ms/step\n",
      "361/361 [==============================] - 5s 14ms/step\n"
     ]
    },
    {
     "name": "stderr",
     "output_type": "stream",
     "text": [
      "\r",
      " 12%|█████████▋                                                                         | 7/60 [01:37<11:44, 13.29s/it]"
     ]
    },
    {
     "name": "stdout",
     "output_type": "stream",
     "text": [
      "\n",
      "-------------------------------------------------------------------\n",
      "\n",
      "Pruned Channel Index: 34\n",
      "Clean Data - Accuracy: 98.64899974019225\n",
      "Poisoned Data - Attack Success Rate: 100.0\n",
      "361/361 [==============================] - 5s 14ms/step\n",
      "361/361 [==============================] - 5s 13ms/step\n"
     ]
    },
    {
     "name": "stderr",
     "output_type": "stream",
     "text": [
      "\r",
      " 13%|███████████                                                                        | 8/60 [01:49<11:04, 12.79s/it]"
     ]
    },
    {
     "name": "stdout",
     "output_type": "stream",
     "text": [
      "\n",
      "-------------------------------------------------------------------\n",
      "\n",
      "Pruned Channel Index: 36\n",
      "Clean Data - Accuracy: 98.64899974019225\n",
      "Poisoned Data - Attack Success Rate: 100.0\n",
      "361/361 [==============================] - 5s 13ms/step\n",
      "361/361 [==============================] - 5s 13ms/step\n"
     ]
    },
    {
     "name": "stderr",
     "output_type": "stream",
     "text": [
      "\r",
      " 15%|████████████▍                                                                      | 9/60 [02:00<10:26, 12.28s/it]"
     ]
    },
    {
     "name": "stdout",
     "output_type": "stream",
     "text": [
      "\n",
      "-------------------------------------------------------------------\n",
      "\n",
      "Pruned Channel Index: 37\n",
      "Clean Data - Accuracy: 98.64899974019225\n",
      "Poisoned Data - Attack Success Rate: 100.0\n",
      "361/361 [==============================] - 5s 14ms/step\n",
      "361/361 [==============================] - 5s 14ms/step\n"
     ]
    },
    {
     "name": "stderr",
     "output_type": "stream",
     "text": [
      "\r",
      " 17%|█████████████▋                                                                    | 10/60 [02:12<10:12, 12.25s/it]"
     ]
    },
    {
     "name": "stdout",
     "output_type": "stream",
     "text": [
      "\n",
      "-------------------------------------------------------------------\n",
      "\n",
      "Pruned Channel Index: 38\n",
      "Clean Data - Accuracy: 98.64899974019225\n",
      "Poisoned Data - Attack Success Rate: 100.0\n",
      "361/361 [==============================] - 5s 14ms/step\n",
      "361/361 [==============================] - 5s 13ms/step\n"
     ]
    },
    {
     "name": "stderr",
     "output_type": "stream",
     "text": [
      "\r",
      " 18%|███████████████                                                                   | 11/60 [02:24<09:50, 12.05s/it]"
     ]
    },
    {
     "name": "stdout",
     "output_type": "stream",
     "text": [
      "\n",
      "-------------------------------------------------------------------\n",
      "\n",
      "Pruned Channel Index: 25\n",
      "Clean Data - Accuracy: 98.64899974019225\n",
      "Poisoned Data - Attack Success Rate: 100.0\n",
      "361/361 [==============================] - 5s 13ms/step\n",
      "361/361 [==============================] - 5s 13ms/step\n"
     ]
    },
    {
     "name": "stderr",
     "output_type": "stream",
     "text": [
      "\r",
      " 20%|████████████████▍                                                                 | 12/60 [02:35<09:24, 11.75s/it]"
     ]
    },
    {
     "name": "stdout",
     "output_type": "stream",
     "text": [
      "\n",
      "-------------------------------------------------------------------\n",
      "\n",
      "Pruned Channel Index: 39\n",
      "Clean Data - Accuracy: 98.64899974019225\n",
      "Poisoned Data - Attack Success Rate: 100.0\n",
      "361/361 [==============================] - 5s 13ms/step\n",
      "361/361 [==============================] - 6s 15ms/step\n"
     ]
    },
    {
     "name": "stderr",
     "output_type": "stream",
     "text": [
      "\r",
      " 22%|█████████████████▊                                                                | 13/60 [02:47<09:20, 11.94s/it]"
     ]
    },
    {
     "name": "stdout",
     "output_type": "stream",
     "text": [
      "\n",
      "-------------------------------------------------------------------\n",
      "\n",
      "Pruned Channel Index: 41\n",
      "Clean Data - Accuracy: 98.64899974019225\n",
      "Poisoned Data - Attack Success Rate: 100.0\n",
      "361/361 [==============================] - 5s 15ms/step\n",
      "361/361 [==============================] - 4s 12ms/step\n"
     ]
    },
    {
     "name": "stderr",
     "output_type": "stream",
     "text": [
      "\r",
      " 23%|███████████████████▏                                                              | 14/60 [02:59<09:07, 11.89s/it]"
     ]
    },
    {
     "name": "stdout",
     "output_type": "stream",
     "text": [
      "\n",
      "-------------------------------------------------------------------\n",
      "\n",
      "Pruned Channel Index: 44\n",
      "Clean Data - Accuracy: 98.64899974019225\n",
      "Poisoned Data - Attack Success Rate: 100.0\n",
      "361/361 [==============================] - 5s 13ms/step\n",
      "361/361 [==============================] - 5s 13ms/step\n"
     ]
    },
    {
     "name": "stderr",
     "output_type": "stream",
     "text": [
      "\r",
      " 25%|████████████████████▌                                                             | 15/60 [03:10<08:44, 11.66s/it]"
     ]
    },
    {
     "name": "stdout",
     "output_type": "stream",
     "text": [
      "\n",
      "-------------------------------------------------------------------\n",
      "\n",
      "Pruned Channel Index: 45\n",
      "Clean Data - Accuracy: 98.64899974019225\n",
      "Poisoned Data - Attack Success Rate: 100.0\n",
      "361/361 [==============================] - 5s 14ms/step\n",
      "361/361 [==============================] - 6s 16ms/step\n"
     ]
    },
    {
     "name": "stderr",
     "output_type": "stream",
     "text": [
      "\r",
      " 27%|█████████████████████▊                                                            | 16/60 [03:23<08:52, 12.10s/it]"
     ]
    },
    {
     "name": "stdout",
     "output_type": "stream",
     "text": [
      "\n",
      "-------------------------------------------------------------------\n",
      "\n",
      "Pruned Channel Index: 47\n",
      "Clean Data - Accuracy: 98.64899974019225\n",
      "Poisoned Data - Attack Success Rate: 100.0\n",
      "361/361 [==============================] - 5s 15ms/step\n",
      "361/361 [==============================] - 5s 13ms/step\n"
     ]
    },
    {
     "name": "stderr",
     "output_type": "stream",
     "text": [
      "\r",
      " 28%|███████████████████████▏                                                          | 17/60 [03:36<08:42, 12.14s/it]"
     ]
    },
    {
     "name": "stdout",
     "output_type": "stream",
     "text": [
      "\n",
      "-------------------------------------------------------------------\n",
      "\n",
      "Pruned Channel Index: 48\n",
      "Clean Data - Accuracy: 98.64899974019225\n",
      "Poisoned Data - Attack Success Rate: 100.0\n",
      "361/361 [==============================] - 5s 13ms/step\n",
      "361/361 [==============================] - 5s 13ms/step\n"
     ]
    },
    {
     "name": "stderr",
     "output_type": "stream",
     "text": [
      "\r",
      " 30%|████████████████████████▌                                                         | 18/60 [03:47<08:15, 11.80s/it]"
     ]
    },
    {
     "name": "stdout",
     "output_type": "stream",
     "text": [
      "\n",
      "-------------------------------------------------------------------\n",
      "\n",
      "Pruned Channel Index: 49\n",
      "Clean Data - Accuracy: 98.64899974019225\n",
      "Poisoned Data - Attack Success Rate: 100.0\n",
      "361/361 [==============================] - 5s 13ms/step\n",
      "361/361 [==============================] - 5s 14ms/step\n"
     ]
    },
    {
     "name": "stderr",
     "output_type": "stream",
     "text": [
      "\r",
      " 32%|█████████████████████████▉                                                        | 19/60 [03:58<07:59, 11.69s/it]"
     ]
    },
    {
     "name": "stdout",
     "output_type": "stream",
     "text": [
      "\n",
      "-------------------------------------------------------------------\n",
      "\n",
      "Pruned Channel Index: 50\n",
      "Clean Data - Accuracy: 98.64899974019225\n",
      "Poisoned Data - Attack Success Rate: 100.0\n",
      "361/361 [==============================] - 5s 14ms/step\n",
      "361/361 [==============================] - 5s 13ms/step\n"
     ]
    },
    {
     "name": "stderr",
     "output_type": "stream",
     "text": [
      "\r",
      " 33%|███████████████████████████▎                                                      | 20/60 [04:10<07:50, 11.76s/it]"
     ]
    },
    {
     "name": "stdout",
     "output_type": "stream",
     "text": [
      "\n",
      "-------------------------------------------------------------------\n",
      "\n",
      "Pruned Channel Index: 53\n",
      "Clean Data - Accuracy: 98.64899974019225\n",
      "Poisoned Data - Attack Success Rate: 100.0\n",
      "361/361 [==============================] - 5s 13ms/step\n",
      "361/361 [==============================] - 5s 13ms/step\n"
     ]
    },
    {
     "name": "stderr",
     "output_type": "stream",
     "text": [
      "\r",
      " 35%|████████████████████████████▋                                                     | 21/60 [04:21<07:31, 11.58s/it]"
     ]
    },
    {
     "name": "stdout",
     "output_type": "stream",
     "text": [
      "\n",
      "-------------------------------------------------------------------\n",
      "\n",
      "Pruned Channel Index: 55\n",
      "Clean Data - Accuracy: 98.64899974019225\n",
      "Poisoned Data - Attack Success Rate: 100.0\n",
      "361/361 [==============================] - 5s 13ms/step\n",
      "361/361 [==============================] - 5s 14ms/step\n"
     ]
    },
    {
     "name": "stderr",
     "output_type": "stream",
     "text": [
      "\r",
      " 37%|██████████████████████████████                                                    | 22/60 [04:33<07:22, 11.66s/it]"
     ]
    },
    {
     "name": "stdout",
     "output_type": "stream",
     "text": [
      "\n",
      "-------------------------------------------------------------------\n",
      "\n",
      "Pruned Channel Index: 40\n",
      "Clean Data - Accuracy: 98.64899974019225\n",
      "Poisoned Data - Attack Success Rate: 100.0\n",
      "361/361 [==============================] - 5s 15ms/step\n",
      "361/361 [==============================] - 5s 12ms/step\n"
     ]
    },
    {
     "name": "stderr",
     "output_type": "stream",
     "text": [
      "\r",
      " 38%|███████████████████████████████▍                                                  | 23/60 [04:45<07:15, 11.78s/it]"
     ]
    },
    {
     "name": "stdout",
     "output_type": "stream",
     "text": [
      "\n",
      "-------------------------------------------------------------------\n",
      "\n",
      "Pruned Channel Index: 24\n",
      "Clean Data - Accuracy: 98.64899974019225\n",
      "Poisoned Data - Attack Success Rate: 100.0\n",
      "361/361 [==============================] - 5s 12ms/step\n",
      "361/361 [==============================] - 5s 13ms/step\n"
     ]
    },
    {
     "name": "stderr",
     "output_type": "stream",
     "text": [
      "\r",
      " 40%|████████████████████████████████▊                                                 | 24/60 [04:56<06:53, 11.49s/it]"
     ]
    },
    {
     "name": "stdout",
     "output_type": "stream",
     "text": [
      "\n",
      "-------------------------------------------------------------------\n",
      "\n",
      "Pruned Channel Index: 59\n",
      "Clean Data - Accuracy: 98.64899974019225\n",
      "Poisoned Data - Attack Success Rate: 100.0\n",
      "361/361 [==============================] - 4s 12ms/step\n",
      "361/361 [==============================] - 5s 13ms/step\n"
     ]
    },
    {
     "name": "stderr",
     "output_type": "stream",
     "text": [
      "\r",
      " 42%|██████████████████████████████████▏                                               | 25/60 [05:07<06:35, 11.29s/it]"
     ]
    },
    {
     "name": "stdout",
     "output_type": "stream",
     "text": [
      "\n",
      "-------------------------------------------------------------------\n",
      "\n",
      "Pruned Channel Index: 9\n",
      "Clean Data - Accuracy: 98.64899974019225\n",
      "Poisoned Data - Attack Success Rate: 100.0\n",
      "361/361 [==============================] - 6s 16ms/step\n",
      "361/361 [==============================] - 6s 17ms/step\n"
     ]
    },
    {
     "name": "stderr",
     "output_type": "stream",
     "text": [
      "\r",
      " 43%|███████████████████████████████████▌                                              | 26/60 [05:21<06:53, 12.17s/it]"
     ]
    },
    {
     "name": "stdout",
     "output_type": "stream",
     "text": [
      "\n",
      "-------------------------------------------------------------------\n",
      "\n",
      "Pruned Channel Index: 2\n",
      "Clean Data - Accuracy: 98.64899974019225\n",
      "Poisoned Data - Attack Success Rate: 100.0\n",
      "361/361 [==============================] - 5s 13ms/step\n",
      "361/361 [==============================] - 5s 12ms/step\n"
     ]
    },
    {
     "name": "stderr",
     "output_type": "stream",
     "text": [
      "\r",
      " 45%|████████████████████████████████████▉                                             | 27/60 [05:32<06:31, 11.87s/it]"
     ]
    },
    {
     "name": "stdout",
     "output_type": "stream",
     "text": [
      "\n",
      "-------------------------------------------------------------------\n",
      "\n",
      "Pruned Channel Index: 12\n",
      "Clean Data - Accuracy: 98.64899974019225\n",
      "Poisoned Data - Attack Success Rate: 100.0\n",
      "361/361 [==============================] - 5s 13ms/step\n",
      "361/361 [==============================] - 6s 16ms/step\n"
     ]
    },
    {
     "name": "stderr",
     "output_type": "stream",
     "text": [
      "\r",
      " 47%|██████████████████████████████████████▎                                           | 28/60 [05:45<06:26, 12.08s/it]"
     ]
    },
    {
     "name": "stdout",
     "output_type": "stream",
     "text": [
      "\n",
      "-------------------------------------------------------------------\n",
      "\n",
      "Pruned Channel Index: 13\n",
      "Clean Data - Accuracy: 98.64899974019225\n",
      "Poisoned Data - Attack Success Rate: 100.0\n",
      "361/361 [==============================] - 6s 15ms/step\n",
      "361/361 [==============================] - 5s 13ms/step\n"
     ]
    },
    {
     "name": "stderr",
     "output_type": "stream",
     "text": [
      "\r",
      " 48%|███████████████████████████████████████▋                                          | 29/60 [05:58<06:23, 12.38s/it]"
     ]
    },
    {
     "name": "stdout",
     "output_type": "stream",
     "text": [
      "\n",
      "-------------------------------------------------------------------\n",
      "\n",
      "Pruned Channel Index: 17\n",
      "Clean Data - Accuracy: 98.64899974019225\n",
      "Poisoned Data - Attack Success Rate: 100.0\n",
      "361/361 [==============================] - 4s 12ms/step\n",
      "361/361 [==============================] - 5s 13ms/step\n"
     ]
    },
    {
     "name": "stderr",
     "output_type": "stream",
     "text": [
      "\r",
      " 50%|█████████████████████████████████████████                                         | 30/60 [06:08<05:55, 11.85s/it]"
     ]
    },
    {
     "name": "stdout",
     "output_type": "stream",
     "text": [
      "\n",
      "-------------------------------------------------------------------\n",
      "\n",
      "Pruned Channel Index: 14\n",
      "Clean Data - Accuracy: 98.64899974019225\n",
      "Poisoned Data - Attack Success Rate: 100.0\n",
      "361/361 [==============================] - 5s 13ms/step\n",
      "361/361 [==============================] - 5s 14ms/step\n"
     ]
    },
    {
     "name": "stderr",
     "output_type": "stream",
     "text": [
      "\r",
      " 52%|██████████████████████████████████████████▎                                       | 31/60 [06:20<05:42, 11.81s/it]"
     ]
    },
    {
     "name": "stdout",
     "output_type": "stream",
     "text": [
      "\n",
      "-------------------------------------------------------------------\n",
      "\n",
      "Pruned Channel Index: 15\n",
      "Clean Data - Accuracy: 98.64899974019225\n",
      "Poisoned Data - Attack Success Rate: 100.0\n",
      "361/361 [==============================] - 5s 14ms/step\n",
      "361/361 [==============================] - 5s 13ms/step\n"
     ]
    },
    {
     "name": "stderr",
     "output_type": "stream",
     "text": [
      "\r",
      " 53%|███████████████████████████████████████████▋                                      | 32/60 [06:33<05:39, 12.13s/it]"
     ]
    },
    {
     "name": "stdout",
     "output_type": "stream",
     "text": [
      "\n",
      "-------------------------------------------------------------------\n",
      "\n",
      "Pruned Channel Index: 23\n",
      "Clean Data - Accuracy: 98.64899974019225\n",
      "Poisoned Data - Attack Success Rate: 100.0\n",
      "361/361 [==============================] - 5s 13ms/step\n",
      "361/361 [==============================] - 5s 13ms/step\n"
     ]
    },
    {
     "name": "stderr",
     "output_type": "stream",
     "text": [
      "\r",
      " 55%|█████████████████████████████████████████████                                     | 33/60 [06:44<05:20, 11.86s/it]"
     ]
    },
    {
     "name": "stdout",
     "output_type": "stream",
     "text": [
      "\n",
      "-------------------------------------------------------------------\n",
      "\n",
      "Pruned Channel Index: 6\n",
      "Clean Data - Accuracy: 98.64899974019225\n",
      "Poisoned Data - Attack Success Rate: 100.0\n",
      "361/361 [==============================] - 5s 13ms/step\n",
      "361/361 [==============================] - 5s 13ms/step\n"
     ]
    },
    {
     "name": "stderr",
     "output_type": "stream",
     "text": [
      "\r",
      " 57%|██████████████████████████████████████████████▍                                   | 34/60 [06:55<05:01, 11.60s/it]"
     ]
    },
    {
     "name": "stdout",
     "output_type": "stream",
     "text": [
      "\n",
      "-------------------------------------------------------------------\n",
      "\n",
      "Pruned Channel Index: 51\n",
      "Clean Data - Accuracy: 98.64033948211657\n",
      "Poisoned Data - Attack Success Rate: 100.0\n",
      "361/361 [==============================] - 5s 15ms/step\n",
      "361/361 [==============================] - 5s 14ms/step\n"
     ]
    },
    {
     "name": "stderr",
     "output_type": "stream",
     "text": [
      "\r",
      " 58%|███████████████████████████████████████████████▊                                  | 35/60 [07:07<04:56, 11.85s/it]"
     ]
    },
    {
     "name": "stdout",
     "output_type": "stream",
     "text": [
      "\n",
      "-------------------------------------------------------------------\n",
      "\n",
      "Pruned Channel Index: 32\n",
      "Clean Data - Accuracy: 98.64033948211657\n",
      "Poisoned Data - Attack Success Rate: 100.0\n",
      "361/361 [==============================] - 5s 14ms/step\n",
      "361/361 [==============================] - 5s 14ms/step\n"
     ]
    },
    {
     "name": "stderr",
     "output_type": "stream",
     "text": [
      "\r",
      " 60%|█████████████████████████████████████████████████▏                                | 36/60 [07:20<04:48, 12.01s/it]"
     ]
    },
    {
     "name": "stdout",
     "output_type": "stream",
     "text": [
      "\n",
      "-------------------------------------------------------------------\n",
      "\n",
      "Pruned Channel Index: 22\n",
      "Clean Data - Accuracy: 98.63167922404088\n",
      "Poisoned Data - Attack Success Rate: 100.0\n",
      "361/361 [==============================] - 5s 13ms/step\n",
      "361/361 [==============================] - 5s 13ms/step\n"
     ]
    },
    {
     "name": "stderr",
     "output_type": "stream",
     "text": [
      "\r",
      " 62%|██████████████████████████████████████████████████▌                               | 37/60 [07:31<04:31, 11.78s/it]"
     ]
    },
    {
     "name": "stdout",
     "output_type": "stream",
     "text": [
      "\n",
      "-------------------------------------------------------------------\n",
      "\n",
      "Pruned Channel Index: 21\n",
      "Clean Data - Accuracy: 98.65765999826795\n",
      "Poisoned Data - Attack Success Rate: 100.0\n",
      "361/361 [==============================] - 5s 14ms/step\n",
      "361/361 [==============================] - 5s 13ms/step\n"
     ]
    },
    {
     "name": "stderr",
     "output_type": "stream",
     "text": [
      "\r",
      " 63%|███████████████████████████████████████████████████▉                              | 38/60 [07:43<04:18, 11.76s/it]"
     ]
    },
    {
     "name": "stdout",
     "output_type": "stream",
     "text": [
      "\n",
      "-------------------------------------------------------------------\n",
      "\n",
      "Pruned Channel Index: 20\n",
      "Clean Data - Accuracy: 98.64899974019225\n",
      "Poisoned Data - Attack Success Rate: 100.0\n",
      "361/361 [==============================] - 5s 13ms/step\n",
      "361/361 [==============================] - 5s 13ms/step\n"
     ]
    },
    {
     "name": "stderr",
     "output_type": "stream",
     "text": [
      "\r",
      " 65%|█████████████████████████████████████████████████████▎                            | 39/60 [07:54<04:01, 11.52s/it]"
     ]
    },
    {
     "name": "stdout",
     "output_type": "stream",
     "text": [
      "\n",
      "-------------------------------------------------------------------\n",
      "\n",
      "Pruned Channel Index: 19\n",
      "Clean Data - Accuracy: 98.6056984498138\n",
      "Poisoned Data - Attack Success Rate: 100.0\n",
      "361/361 [==============================] - 5s 13ms/step\n",
      "361/361 [==============================] - 5s 14ms/step\n"
     ]
    },
    {
     "name": "stderr",
     "output_type": "stream",
     "text": [
      "\r",
      " 67%|██████████████████████████████████████████████████████▋                           | 40/60 [08:05<03:49, 11.49s/it]"
     ]
    },
    {
     "name": "stdout",
     "output_type": "stream",
     "text": [
      "\n",
      "-------------------------------------------------------------------\n",
      "\n",
      "Pruned Channel Index: 43\n",
      "Clean Data - Accuracy: 98.57105741751104\n",
      "Poisoned Data - Attack Success Rate: 100.0\n",
      "361/361 [==============================] - 5s 15ms/step\n",
      "361/361 [==============================] - 5s 13ms/step\n"
     ]
    },
    {
     "name": "stderr",
     "output_type": "stream",
     "text": [
      "\r",
      " 68%|████████████████████████████████████████████████████████                          | 41/60 [08:18<03:45, 11.89s/it]"
     ]
    },
    {
     "name": "stdout",
     "output_type": "stream",
     "text": [
      "\n",
      "-------------------------------------------------------------------\n",
      "\n",
      "Pruned Channel Index: 58\n",
      "Clean Data - Accuracy: 98.53641638520828\n",
      "Poisoned Data - Attack Success Rate: 100.0\n",
      "361/361 [==============================] - 5s 13ms/step\n",
      "361/361 [==============================] - 5s 13ms/step\n"
     ]
    },
    {
     "name": "stderr",
     "output_type": "stream",
     "text": [
      "\r",
      " 70%|█████████████████████████████████████████████████████████▍                        | 42/60 [08:29<03:30, 11.67s/it]"
     ]
    },
    {
     "name": "stdout",
     "output_type": "stream",
     "text": [
      "\n",
      "-------------------------------------------------------------------\n",
      "\n",
      "Pruned Channel Index: 3\n",
      "Clean Data - Accuracy: 98.19000606218066\n",
      "Poisoned Data - Attack Success Rate: 100.0\n",
      "361/361 [==============================] - 5s 13ms/step\n",
      "361/361 [==============================] - 5s 15ms/step\n"
     ]
    },
    {
     "name": "stderr",
     "output_type": "stream",
     "text": [
      "\r",
      " 72%|██████████████████████████████████████████████████████████▊                       | 43/60 [08:41<03:18, 11.70s/it]"
     ]
    },
    {
     "name": "stdout",
     "output_type": "stream",
     "text": [
      "\n",
      "-------------------------------------------------------------------\n",
      "\n",
      "Pruned Channel Index: 42\n",
      "Clean Data - Accuracy: 97.65307006148784\n",
      "Poisoned Data - Attack Success Rate: 100.0\n",
      "361/361 [==============================] - 5s 13ms/step\n",
      "361/361 [==============================] - 5s 13ms/step\n"
     ]
    },
    {
     "name": "stderr",
     "output_type": "stream",
     "text": [
      "\r",
      " 73%|████████████████████████████████████████████████████████████▏                     | 44/60 [08:52<03:04, 11.50s/it]"
     ]
    },
    {
     "name": "stdout",
     "output_type": "stream",
     "text": [
      "\n",
      "-------------------------------------------------------------------\n",
      "\n",
      "Pruned Channel Index: 1\n",
      "Clean Data - Accuracy: 97.50584567420108\n",
      "Poisoned Data - Attack Success Rate: 100.0\n",
      "361/361 [==============================] - 5s 14ms/step\n",
      "Validation accuracy drops atleast 2% below the original accuracy\n",
      "WARNING:tensorflow:Compiled the loaded model, but the compiled metrics have yet to be built. `model.compile_metrics` will be empty until you train or evaluate the model.\n",
      "361/361 [==============================] - 5s 13ms/step\n"
     ]
    },
    {
     "name": "stderr",
     "output_type": "stream",
     "text": [
      "\r",
      " 75%|█████████████████████████████████████████████████████████████▌                    | 45/60 [09:04<02:54, 11.61s/it]"
     ]
    },
    {
     "name": "stdout",
     "output_type": "stream",
     "text": [
      "\n",
      "-------------------------------------------------------------------\n",
      "\n",
      "Pruned Channel Index: 29\n",
      "Clean Data - Accuracy: 95.75647354291158\n",
      "Poisoned Data - Attack Success Rate: 100.0\n",
      "361/361 [==============================] - 5s 14ms/step\n",
      "361/361 [==============================] - 5s 15ms/step\n"
     ]
    },
    {
     "name": "stderr",
     "output_type": "stream",
     "text": [
      "\r",
      " 77%|██████████████████████████████████████████████████████████████▊                   | 46/60 [09:17<02:49, 12.14s/it]"
     ]
    },
    {
     "name": "stdout",
     "output_type": "stream",
     "text": [
      "\n",
      "-------------------------------------------------------------------\n",
      "\n",
      "Pruned Channel Index: 16\n",
      "Clean Data - Accuracy: 95.20221702606739\n",
      "Poisoned Data - Attack Success Rate: 99.9913397419243\n",
      "361/361 [==============================] - 6s 16ms/step\n",
      "361/361 [==============================] - 5s 13ms/step\n"
     ]
    },
    {
     "name": "stderr",
     "output_type": "stream",
     "text": [
      "\r",
      " 78%|████████████████████████████████████████████████████████████████▏                 | 47/60 [09:31<02:42, 12.53s/it]"
     ]
    },
    {
     "name": "stdout",
     "output_type": "stream",
     "text": [
      "\n",
      "-------------------------------------------------------------------\n",
      "\n",
      "Pruned Channel Index: 56\n",
      "Clean Data - Accuracy: 94.7172425738287\n",
      "Poisoned Data - Attack Success Rate: 99.9913397419243\n",
      "361/361 [==============================] - 5s 13ms/step\n",
      "Validation accuracy drops atleast 4% below the original accuracy\n",
      "WARNING:tensorflow:Compiled the loaded model, but the compiled metrics have yet to be built. `model.compile_metrics` will be empty until you train or evaluate the model.\n",
      "361/361 [==============================] - 4s 12ms/step\n"
     ]
    },
    {
     "name": "stderr",
     "output_type": "stream",
     "text": [
      "\r",
      " 80%|█████████████████████████████████████████████████████████████████▌                | 48/60 [09:42<02:24, 12.05s/it]"
     ]
    },
    {
     "name": "stdout",
     "output_type": "stream",
     "text": [
      "\n",
      "-------------------------------------------------------------------\n",
      "\n",
      "Pruned Channel Index: 46\n",
      "Clean Data - Accuracy: 92.09318437689443\n",
      "Poisoned Data - Attack Success Rate: 99.9913397419243\n",
      "361/361 [==============================] - 5s 12ms/step\n",
      "361/361 [==============================] - 5s 14ms/step\n"
     ]
    },
    {
     "name": "stderr",
     "output_type": "stream",
     "text": [
      "\r",
      " 82%|██████████████████████████████████████████████████████████████████▉               | 49/60 [09:53<02:10, 11.84s/it]"
     ]
    },
    {
     "name": "stdout",
     "output_type": "stream",
     "text": [
      "\n",
      "-------------------------------------------------------------------\n",
      "\n",
      "Pruned Channel Index: 5\n",
      "Clean Data - Accuracy: 91.49562656967177\n",
      "Poisoned Data - Attack Success Rate: 99.9913397419243\n",
      "361/361 [==============================] - 5s 14ms/step\n",
      "361/361 [==============================] - 5s 13ms/step\n"
     ]
    },
    {
     "name": "stderr",
     "output_type": "stream",
     "text": [
      "\r",
      " 83%|████████████████████████████████████████████████████████████████████▎             | 50/60 [10:05<01:57, 11.78s/it]"
     ]
    },
    {
     "name": "stdout",
     "output_type": "stream",
     "text": [
      "\n",
      "-------------------------------------------------------------------\n",
      "\n",
      "Pruned Channel Index: 8\n",
      "Clean Data - Accuracy: 91.01931237550879\n",
      "Poisoned Data - Attack Success Rate: 99.98267948384861\n",
      "361/361 [==============================] - 5s 13ms/step\n",
      "361/361 [==============================] - 5s 13ms/step\n"
     ]
    },
    {
     "name": "stderr",
     "output_type": "stream",
     "text": [
      "\r",
      " 85%|█████████████████████████████████████████████████████████████████████▋            | 51/60 [10:16<01:44, 11.56s/it]"
     ]
    },
    {
     "name": "stdout",
     "output_type": "stream",
     "text": [
      "\n",
      "-------------------------------------------------------------------\n",
      "\n",
      "Pruned Channel Index: 11\n",
      "Clean Data - Accuracy: 89.17467740538669\n",
      "Poisoned Data - Attack Success Rate: 80.73958603966398\n",
      "361/361 [==============================] - 5s 13ms/step\n",
      "Validation accuracy drops atleast 10% below the original accuracy\n",
      "WARNING:tensorflow:Compiled the loaded model, but the compiled metrics have yet to be built. `model.compile_metrics` will be empty until you train or evaluate the model.\n",
      "361/361 [==============================] - 5s 14ms/step\n"
     ]
    },
    {
     "name": "stderr",
     "output_type": "stream",
     "text": [
      "\r",
      " 87%|███████████████████████████████████████████████████████████████████████           | 52/60 [10:27<01:32, 11.50s/it]"
     ]
    },
    {
     "name": "stdout",
     "output_type": "stream",
     "text": [
      "\n",
      "-------------------------------------------------------------------\n",
      "\n",
      "Pruned Channel Index: 54\n",
      "Clean Data - Accuracy: 84.43751623798389\n",
      "Poisoned Data - Attack Success Rate: 77.015675067117\n",
      "361/361 [==============================] - 5s 14ms/step\n",
      "361/361 [==============================] - 5s 14ms/step\n"
     ]
    },
    {
     "name": "stderr",
     "output_type": "stream",
     "text": [
      "\r",
      " 88%|████████████████████████████████████████████████████████████████████████▍         | 53/60 [10:40<01:23, 11.88s/it]"
     ]
    },
    {
     "name": "stdout",
     "output_type": "stream",
     "text": [
      "\n",
      "-------------------------------------------------------------------\n",
      "\n",
      "Pruned Channel Index: 10\n",
      "Clean Data - Accuracy: 76.48739932449988\n",
      "Poisoned Data - Attack Success Rate: 35.71490430414826\n",
      "361/361 [==============================] - 5s 13ms/step\n",
      "361/361 [==============================] - 5s 13ms/step\n"
     ]
    },
    {
     "name": "stderr",
     "output_type": "stream",
     "text": [
      "\r",
      " 90%|█████████████████████████████████████████████████████████████████████████▊        | 54/60 [10:51<01:09, 11.58s/it]"
     ]
    },
    {
     "name": "stdout",
     "output_type": "stream",
     "text": [
      "\n",
      "-------------------------------------------------------------------\n",
      "\n",
      "Pruned Channel Index: 28\n",
      "Clean Data - Accuracy: 54.8627349095003\n",
      "Poisoned Data - Attack Success Rate: 6.954187234779596\n",
      "361/361 [==============================] - 5s 13ms/step\n",
      "361/361 [==============================] - 5s 13ms/step\n"
     ]
    },
    {
     "name": "stderr",
     "output_type": "stream",
     "text": [
      "\r",
      " 92%|███████████████████████████████████████████████████████████████████████████▏      | 55/60 [11:02<00:57, 11.53s/it]"
     ]
    },
    {
     "name": "stdout",
     "output_type": "stream",
     "text": [
      "\n",
      "-------------------------------------------------------------------\n",
      "\n",
      "Pruned Channel Index: 35\n",
      "Clean Data - Accuracy: 27.08928726076037\n",
      "Poisoned Data - Attack Success Rate: 0.4243526457088421\n",
      "361/361 [==============================] - 5s 14ms/step\n",
      "361/361 [==============================] - 5s 14ms/step\n"
     ]
    },
    {
     "name": "stderr",
     "output_type": "stream",
     "text": [
      "\r",
      " 93%|████████████████████████████████████████████████████████████████████████████▌     | 56/60 [11:15<00:47, 11.84s/it]"
     ]
    },
    {
     "name": "stdout",
     "output_type": "stream",
     "text": [
      "\n",
      "-------------------------------------------------------------------\n",
      "\n",
      "Pruned Channel Index: 18\n",
      "Clean Data - Accuracy: 13.87373343725643\n",
      "Poisoned Data - Attack Success Rate: 0.0\n",
      "361/361 [==============================] - 5s 13ms/step\n",
      "361/361 [==============================] - 5s 13ms/step\n"
     ]
    },
    {
     "name": "stderr",
     "output_type": "stream",
     "text": [
      "\r",
      " 95%|█████████████████████████████████████████████████████████████████████████████▉    | 57/60 [11:26<00:35, 11.72s/it]"
     ]
    },
    {
     "name": "stdout",
     "output_type": "stream",
     "text": [
      "\n",
      "-------------------------------------------------------------------\n",
      "\n",
      "Pruned Channel Index: 4\n",
      "Clean Data - Accuracy: 7.101411622066338\n",
      "Poisoned Data - Attack Success Rate: 0.0\n",
      "361/361 [==============================] - 4s 12ms/step\n",
      "361/361 [==============================] - 5s 13ms/step\n"
     ]
    },
    {
     "name": "stderr",
     "output_type": "stream",
     "text": [
      "\r",
      " 97%|███████████████████████████████████████████████████████████████████████████████▎  | 58/60 [11:37<00:22, 11.41s/it]"
     ]
    },
    {
     "name": "stdout",
     "output_type": "stream",
     "text": [
      "\n",
      "-------------------------------------------------------------------\n",
      "\n",
      "Pruned Channel Index: 7\n",
      "Clean Data - Accuracy: 1.5501861955486274\n",
      "Poisoned Data - Attack Success Rate: 0.0\n",
      "361/361 [==============================] - 6s 15ms/step\n",
      "361/361 [==============================] - 5s 13ms/step\n"
     ]
    },
    {
     "name": "stderr",
     "output_type": "stream",
     "text": [
      "\r",
      " 98%|████████████████████████████████████████████████████████████████████████████████▋ | 59/60 [11:49<00:11, 11.66s/it]"
     ]
    },
    {
     "name": "stdout",
     "output_type": "stream",
     "text": [
      "\n",
      "-------------------------------------------------------------------\n",
      "\n",
      "Pruned Channel Index: 52\n",
      "Clean Data - Accuracy: 0.7188014202823244\n",
      "Poisoned Data - Attack Success Rate: 0.0\n",
      "361/361 [==============================] - 5s 13ms/step\n",
      "361/361 [==============================] - 5s 12ms/step\n"
     ]
    },
    {
     "name": "stderr",
     "output_type": "stream",
     "text": [
      "100%|██████████████████████████████████████████████████████████████████████████████████| 60/60 [12:00<00:00, 12.00s/it]"
     ]
    },
    {
     "name": "stdout",
     "output_type": "stream",
     "text": [
      "\n",
      "-------------------------------------------------------------------\n",
      "\n",
      "Pruned Channel Index: 57\n",
      "Clean Data - Accuracy: 0.0779423226812159\n",
      "Poisoned Data - Attack Success Rate: 0.0\n"
     ]
    },
    {
     "name": "stderr",
     "output_type": "stream",
     "text": [
      "\n"
     ]
    }
   ],
   "source": [
    "# Prune and evaluate the model\n",
    "def evaluate_pruned_model(model, cl_x, cl_y, bd_x, bd_y, cl_accuracy):\n",
    "    clean_accuracies = []\n",
    "    attack_success_rates = []\n",
    "    saved_thresholds = np.zeros(3, dtype=bool)\n",
    "    pruned_model = keras.models.clone_model(model)\n",
    "    pruned_model.set_weights(model.get_weights())\n",
    "    weights = pruned_model.layers[5].get_weights()[0]\n",
    "    biases = pruned_model.layers[5].get_weights()[1]\n",
    "    \n",
    "    last_pooling_output = pruned_model.get_layer('pool_3').output\n",
    "    intermediate_layer_model = keras.models.Model(inputs=pruned_model.input, outputs=last_pooling_output)\n",
    "    intermediate_predictions = np.mean(intermediate_layer_model.predict(cl_x), axis=(0, 1, 2))\n",
    "    sorted_channels = np.argsort(intermediate_predictions)\n",
    "\n",
    "    for channel_index in tqdm(sorted_channels):\n",
    "        weights[:, :, :, channel_index] = 0\n",
    "        biases[channel_index] = 0\n",
    "        pruned_model.layers[5].set_weights([weights, biases])\n",
    "        cl_y_predictions = np.argmax(pruned_model.predict(cl_x), axis=1)\n",
    "        clean_accuracy = np.mean(np.equal(cl_y_predictions, cl_y)) * 100\n",
    "        for idx, threshold in enumerate([2, 4, 10]):\n",
    "            if (cl_accuracy - clean_accuracy >= threshold) and (not saved_thresholds[idx]):\n",
    "                print(f\"Validation accuracy drops atleast {threshold}% below the original accuracy\")\n",
    "                pruned_model.save(f'repair_network_{threshold}.h5')\n",
    "                saved_thresholds[idx] = True\n",
    "        \n",
    "        bd_y_predictions = np.argmax(pruned_model.predict(bd_x), axis=1)\n",
    "        attack_success_rate = np.mean(np.equal(bd_y_predictions, bd_y)) * 100\n",
    "        clean_accuracies.append(clean_accuracy)\n",
    "        attack_success_rates.append(attack_success_rate)\n",
    "        print(\"\\n-------------------------------------------------------------------\\n\")\n",
    "        print(\"Pruned Channel Index:\", channel_index)\n",
    "        print(\"Clean Data - Accuracy:\", clean_accuracy)\n",
    "        print(\"Poisoned Data - Attack Success Rate:\", attack_success_rate)\n",
    "        keras.backend.clear_session()\n",
    "    return clean_accuracies, attack_success_rates\n",
    "\n",
    "pruned_cl_accuracy, pruned_bd_asr = evaluate_pruned_model(model, cl_x_valid, cl_y_valid, bd_x_valid, bd_y_valid, cl_accuracy)\n"
   ]
  },
  {
   "cell_type": "code",
   "execution_count": 12,
   "metadata": {
    "colab": {
     "base_uri": "https://localhost:8080/"
    },
    "id": "vUBPwn0Lubn8",
    "outputId": "9f37ed18-977e-4742-e20d-9654c9db2239"
   },
   "outputs": [
    {
     "name": "stdout",
     "output_type": "stream",
     "text": [
      "Clean Accuracies: \n",
      " [98.64899974019225, 98.64899974019225, 98.64899974019225, 98.64899974019225, 98.64899974019225, 98.64899974019225, 98.64899974019225, 98.64899974019225, 98.64899974019225, 98.64899974019225, 98.64899974019225, 98.64899974019225, 98.64899974019225, 98.64899974019225, 98.64899974019225, 98.64899974019225, 98.64899974019225, 98.64899974019225, 98.64899974019225, 98.64899974019225, 98.64899974019225, 98.64899974019225, 98.64899974019225, 98.64899974019225, 98.64899974019225, 98.64899974019225, 98.64899974019225, 98.64899974019225, 98.64899974019225, 98.64899974019225, 98.64899974019225, 98.64899974019225, 98.64899974019225, 98.64033948211657, 98.64033948211657, 98.63167922404088, 98.65765999826795, 98.64899974019225, 98.6056984498138, 98.57105741751104, 98.53641638520828, 98.19000606218066, 97.65307006148784, 97.50584567420108, 95.75647354291158, 95.20221702606739, 94.7172425738287, 92.09318437689443, 91.49562656967177, 91.01931237550879, 89.17467740538669, 84.43751623798389, 76.48739932449988, 54.8627349095003, 27.08928726076037, 13.87373343725643, 7.101411622066338, 1.5501861955486274, 0.7188014202823244, 0.0779423226812159]\n",
      "\n",
      "Attack Success Rates: \n",
      " [100.0, 100.0, 100.0, 100.0, 100.0, 100.0, 100.0, 100.0, 100.0, 100.0, 100.0, 100.0, 100.0, 100.0, 100.0, 100.0, 100.0, 100.0, 100.0, 100.0, 100.0, 100.0, 100.0, 100.0, 100.0, 100.0, 100.0, 100.0, 100.0, 100.0, 100.0, 100.0, 100.0, 100.0, 100.0, 100.0, 100.0, 100.0, 100.0, 100.0, 100.0, 100.0, 100.0, 100.0, 100.0, 99.9913397419243, 99.9913397419243, 99.9913397419243, 99.9913397419243, 99.98267948384861, 80.73958603966398, 77.015675067117, 35.71490430414826, 6.954187234779596, 0.4243526457088421, 0.0, 0.0, 0.0, 0.0, 0.0]\n"
     ]
    }
   ],
   "source": [
    "# Print the results\n",
    "print(\"Clean Accuracies: \\n\", pruned_cl_accuracy)\n",
    "print(\"\\nAttack Success Rates: \\n\", pruned_bd_asr)"
   ]
  },
  {
   "cell_type": "markdown",
   "metadata": {},
   "source": [
    "Note : Note that the Pruned Channel Index goes upto 60"
   ]
  },
  {
   "cell_type": "code",
   "execution_count": 13,
   "metadata": {},
   "outputs": [
    {
     "data": {
      "text/html": [
       "<div>\n",
       "<style scoped>\n",
       "    .dataframe tbody tr th:only-of-type {\n",
       "        vertical-align: middle;\n",
       "    }\n",
       "\n",
       "    .dataframe tbody tr th {\n",
       "        vertical-align: top;\n",
       "    }\n",
       "\n",
       "    .dataframe thead th {\n",
       "        text-align: right;\n",
       "    }\n",
       "</style>\n",
       "<table border=\"1\" class=\"dataframe\">\n",
       "  <thead>\n",
       "    <tr style=\"text-align: right;\">\n",
       "      <th></th>\n",
       "      <th>Fraction of Pruned Channels</th>\n",
       "      <th>Accuracy</th>\n",
       "      <th>Attack Success Rate</th>\n",
       "    </tr>\n",
       "  </thead>\n",
       "  <tbody>\n",
       "    <tr>\n",
       "      <th>0</th>\n",
       "      <td>0.016667</td>\n",
       "      <td>98.649000</td>\n",
       "      <td>100.000000</td>\n",
       "    </tr>\n",
       "    <tr>\n",
       "      <th>1</th>\n",
       "      <td>0.033333</td>\n",
       "      <td>98.649000</td>\n",
       "      <td>100.000000</td>\n",
       "    </tr>\n",
       "    <tr>\n",
       "      <th>2</th>\n",
       "      <td>0.050000</td>\n",
       "      <td>98.649000</td>\n",
       "      <td>100.000000</td>\n",
       "    </tr>\n",
       "    <tr>\n",
       "      <th>3</th>\n",
       "      <td>0.066667</td>\n",
       "      <td>98.649000</td>\n",
       "      <td>100.000000</td>\n",
       "    </tr>\n",
       "    <tr>\n",
       "      <th>4</th>\n",
       "      <td>0.083333</td>\n",
       "      <td>98.649000</td>\n",
       "      <td>100.000000</td>\n",
       "    </tr>\n",
       "    <tr>\n",
       "      <th>5</th>\n",
       "      <td>0.100000</td>\n",
       "      <td>98.649000</td>\n",
       "      <td>100.000000</td>\n",
       "    </tr>\n",
       "    <tr>\n",
       "      <th>6</th>\n",
       "      <td>0.116667</td>\n",
       "      <td>98.649000</td>\n",
       "      <td>100.000000</td>\n",
       "    </tr>\n",
       "    <tr>\n",
       "      <th>7</th>\n",
       "      <td>0.133333</td>\n",
       "      <td>98.649000</td>\n",
       "      <td>100.000000</td>\n",
       "    </tr>\n",
       "    <tr>\n",
       "      <th>8</th>\n",
       "      <td>0.150000</td>\n",
       "      <td>98.649000</td>\n",
       "      <td>100.000000</td>\n",
       "    </tr>\n",
       "    <tr>\n",
       "      <th>9</th>\n",
       "      <td>0.166667</td>\n",
       "      <td>98.649000</td>\n",
       "      <td>100.000000</td>\n",
       "    </tr>\n",
       "    <tr>\n",
       "      <th>10</th>\n",
       "      <td>0.183333</td>\n",
       "      <td>98.649000</td>\n",
       "      <td>100.000000</td>\n",
       "    </tr>\n",
       "    <tr>\n",
       "      <th>11</th>\n",
       "      <td>0.200000</td>\n",
       "      <td>98.649000</td>\n",
       "      <td>100.000000</td>\n",
       "    </tr>\n",
       "    <tr>\n",
       "      <th>12</th>\n",
       "      <td>0.216667</td>\n",
       "      <td>98.649000</td>\n",
       "      <td>100.000000</td>\n",
       "    </tr>\n",
       "    <tr>\n",
       "      <th>13</th>\n",
       "      <td>0.233333</td>\n",
       "      <td>98.649000</td>\n",
       "      <td>100.000000</td>\n",
       "    </tr>\n",
       "    <tr>\n",
       "      <th>14</th>\n",
       "      <td>0.250000</td>\n",
       "      <td>98.649000</td>\n",
       "      <td>100.000000</td>\n",
       "    </tr>\n",
       "    <tr>\n",
       "      <th>15</th>\n",
       "      <td>0.266667</td>\n",
       "      <td>98.649000</td>\n",
       "      <td>100.000000</td>\n",
       "    </tr>\n",
       "    <tr>\n",
       "      <th>16</th>\n",
       "      <td>0.283333</td>\n",
       "      <td>98.649000</td>\n",
       "      <td>100.000000</td>\n",
       "    </tr>\n",
       "    <tr>\n",
       "      <th>17</th>\n",
       "      <td>0.300000</td>\n",
       "      <td>98.649000</td>\n",
       "      <td>100.000000</td>\n",
       "    </tr>\n",
       "    <tr>\n",
       "      <th>18</th>\n",
       "      <td>0.316667</td>\n",
       "      <td>98.649000</td>\n",
       "      <td>100.000000</td>\n",
       "    </tr>\n",
       "    <tr>\n",
       "      <th>19</th>\n",
       "      <td>0.333333</td>\n",
       "      <td>98.649000</td>\n",
       "      <td>100.000000</td>\n",
       "    </tr>\n",
       "    <tr>\n",
       "      <th>20</th>\n",
       "      <td>0.350000</td>\n",
       "      <td>98.649000</td>\n",
       "      <td>100.000000</td>\n",
       "    </tr>\n",
       "    <tr>\n",
       "      <th>21</th>\n",
       "      <td>0.366667</td>\n",
       "      <td>98.649000</td>\n",
       "      <td>100.000000</td>\n",
       "    </tr>\n",
       "    <tr>\n",
       "      <th>22</th>\n",
       "      <td>0.383333</td>\n",
       "      <td>98.649000</td>\n",
       "      <td>100.000000</td>\n",
       "    </tr>\n",
       "    <tr>\n",
       "      <th>23</th>\n",
       "      <td>0.400000</td>\n",
       "      <td>98.649000</td>\n",
       "      <td>100.000000</td>\n",
       "    </tr>\n",
       "    <tr>\n",
       "      <th>24</th>\n",
       "      <td>0.416667</td>\n",
       "      <td>98.649000</td>\n",
       "      <td>100.000000</td>\n",
       "    </tr>\n",
       "    <tr>\n",
       "      <th>25</th>\n",
       "      <td>0.433333</td>\n",
       "      <td>98.649000</td>\n",
       "      <td>100.000000</td>\n",
       "    </tr>\n",
       "    <tr>\n",
       "      <th>26</th>\n",
       "      <td>0.450000</td>\n",
       "      <td>98.649000</td>\n",
       "      <td>100.000000</td>\n",
       "    </tr>\n",
       "    <tr>\n",
       "      <th>27</th>\n",
       "      <td>0.466667</td>\n",
       "      <td>98.649000</td>\n",
       "      <td>100.000000</td>\n",
       "    </tr>\n",
       "    <tr>\n",
       "      <th>28</th>\n",
       "      <td>0.483333</td>\n",
       "      <td>98.649000</td>\n",
       "      <td>100.000000</td>\n",
       "    </tr>\n",
       "    <tr>\n",
       "      <th>29</th>\n",
       "      <td>0.500000</td>\n",
       "      <td>98.649000</td>\n",
       "      <td>100.000000</td>\n",
       "    </tr>\n",
       "    <tr>\n",
       "      <th>30</th>\n",
       "      <td>0.516667</td>\n",
       "      <td>98.649000</td>\n",
       "      <td>100.000000</td>\n",
       "    </tr>\n",
       "    <tr>\n",
       "      <th>31</th>\n",
       "      <td>0.533333</td>\n",
       "      <td>98.649000</td>\n",
       "      <td>100.000000</td>\n",
       "    </tr>\n",
       "    <tr>\n",
       "      <th>32</th>\n",
       "      <td>0.550000</td>\n",
       "      <td>98.649000</td>\n",
       "      <td>100.000000</td>\n",
       "    </tr>\n",
       "    <tr>\n",
       "      <th>33</th>\n",
       "      <td>0.566667</td>\n",
       "      <td>98.640339</td>\n",
       "      <td>100.000000</td>\n",
       "    </tr>\n",
       "    <tr>\n",
       "      <th>34</th>\n",
       "      <td>0.583333</td>\n",
       "      <td>98.640339</td>\n",
       "      <td>100.000000</td>\n",
       "    </tr>\n",
       "    <tr>\n",
       "      <th>35</th>\n",
       "      <td>0.600000</td>\n",
       "      <td>98.631679</td>\n",
       "      <td>100.000000</td>\n",
       "    </tr>\n",
       "    <tr>\n",
       "      <th>36</th>\n",
       "      <td>0.616667</td>\n",
       "      <td>98.657660</td>\n",
       "      <td>100.000000</td>\n",
       "    </tr>\n",
       "    <tr>\n",
       "      <th>37</th>\n",
       "      <td>0.633333</td>\n",
       "      <td>98.649000</td>\n",
       "      <td>100.000000</td>\n",
       "    </tr>\n",
       "    <tr>\n",
       "      <th>38</th>\n",
       "      <td>0.650000</td>\n",
       "      <td>98.605698</td>\n",
       "      <td>100.000000</td>\n",
       "    </tr>\n",
       "    <tr>\n",
       "      <th>39</th>\n",
       "      <td>0.666667</td>\n",
       "      <td>98.571057</td>\n",
       "      <td>100.000000</td>\n",
       "    </tr>\n",
       "    <tr>\n",
       "      <th>40</th>\n",
       "      <td>0.683333</td>\n",
       "      <td>98.536416</td>\n",
       "      <td>100.000000</td>\n",
       "    </tr>\n",
       "    <tr>\n",
       "      <th>41</th>\n",
       "      <td>0.700000</td>\n",
       "      <td>98.190006</td>\n",
       "      <td>100.000000</td>\n",
       "    </tr>\n",
       "    <tr>\n",
       "      <th>42</th>\n",
       "      <td>0.716667</td>\n",
       "      <td>97.653070</td>\n",
       "      <td>100.000000</td>\n",
       "    </tr>\n",
       "    <tr>\n",
       "      <th>43</th>\n",
       "      <td>0.733333</td>\n",
       "      <td>97.505846</td>\n",
       "      <td>100.000000</td>\n",
       "    </tr>\n",
       "    <tr>\n",
       "      <th>44</th>\n",
       "      <td>0.750000</td>\n",
       "      <td>95.756474</td>\n",
       "      <td>100.000000</td>\n",
       "    </tr>\n",
       "    <tr>\n",
       "      <th>45</th>\n",
       "      <td>0.766667</td>\n",
       "      <td>95.202217</td>\n",
       "      <td>99.991340</td>\n",
       "    </tr>\n",
       "    <tr>\n",
       "      <th>46</th>\n",
       "      <td>0.783333</td>\n",
       "      <td>94.717243</td>\n",
       "      <td>99.991340</td>\n",
       "    </tr>\n",
       "    <tr>\n",
       "      <th>47</th>\n",
       "      <td>0.800000</td>\n",
       "      <td>92.093184</td>\n",
       "      <td>99.991340</td>\n",
       "    </tr>\n",
       "    <tr>\n",
       "      <th>48</th>\n",
       "      <td>0.816667</td>\n",
       "      <td>91.495627</td>\n",
       "      <td>99.991340</td>\n",
       "    </tr>\n",
       "    <tr>\n",
       "      <th>49</th>\n",
       "      <td>0.833333</td>\n",
       "      <td>91.019312</td>\n",
       "      <td>99.982679</td>\n",
       "    </tr>\n",
       "    <tr>\n",
       "      <th>50</th>\n",
       "      <td>0.850000</td>\n",
       "      <td>89.174677</td>\n",
       "      <td>80.739586</td>\n",
       "    </tr>\n",
       "    <tr>\n",
       "      <th>51</th>\n",
       "      <td>0.866667</td>\n",
       "      <td>84.437516</td>\n",
       "      <td>77.015675</td>\n",
       "    </tr>\n",
       "    <tr>\n",
       "      <th>52</th>\n",
       "      <td>0.883333</td>\n",
       "      <td>76.487399</td>\n",
       "      <td>35.714904</td>\n",
       "    </tr>\n",
       "    <tr>\n",
       "      <th>53</th>\n",
       "      <td>0.900000</td>\n",
       "      <td>54.862735</td>\n",
       "      <td>6.954187</td>\n",
       "    </tr>\n",
       "    <tr>\n",
       "      <th>54</th>\n",
       "      <td>0.916667</td>\n",
       "      <td>27.089287</td>\n",
       "      <td>0.424353</td>\n",
       "    </tr>\n",
       "    <tr>\n",
       "      <th>55</th>\n",
       "      <td>0.933333</td>\n",
       "      <td>13.873733</td>\n",
       "      <td>0.000000</td>\n",
       "    </tr>\n",
       "    <tr>\n",
       "      <th>56</th>\n",
       "      <td>0.950000</td>\n",
       "      <td>7.101412</td>\n",
       "      <td>0.000000</td>\n",
       "    </tr>\n",
       "    <tr>\n",
       "      <th>57</th>\n",
       "      <td>0.966667</td>\n",
       "      <td>1.550186</td>\n",
       "      <td>0.000000</td>\n",
       "    </tr>\n",
       "    <tr>\n",
       "      <th>58</th>\n",
       "      <td>0.983333</td>\n",
       "      <td>0.718801</td>\n",
       "      <td>0.000000</td>\n",
       "    </tr>\n",
       "    <tr>\n",
       "      <th>59</th>\n",
       "      <td>1.000000</td>\n",
       "      <td>0.077942</td>\n",
       "      <td>0.000000</td>\n",
       "    </tr>\n",
       "  </tbody>\n",
       "</table>\n",
       "</div>"
      ],
      "text/plain": [
       "    Fraction of Pruned Channels   Accuracy  Attack Success Rate\n",
       "0                      0.016667  98.649000           100.000000\n",
       "1                      0.033333  98.649000           100.000000\n",
       "2                      0.050000  98.649000           100.000000\n",
       "3                      0.066667  98.649000           100.000000\n",
       "4                      0.083333  98.649000           100.000000\n",
       "5                      0.100000  98.649000           100.000000\n",
       "6                      0.116667  98.649000           100.000000\n",
       "7                      0.133333  98.649000           100.000000\n",
       "8                      0.150000  98.649000           100.000000\n",
       "9                      0.166667  98.649000           100.000000\n",
       "10                     0.183333  98.649000           100.000000\n",
       "11                     0.200000  98.649000           100.000000\n",
       "12                     0.216667  98.649000           100.000000\n",
       "13                     0.233333  98.649000           100.000000\n",
       "14                     0.250000  98.649000           100.000000\n",
       "15                     0.266667  98.649000           100.000000\n",
       "16                     0.283333  98.649000           100.000000\n",
       "17                     0.300000  98.649000           100.000000\n",
       "18                     0.316667  98.649000           100.000000\n",
       "19                     0.333333  98.649000           100.000000\n",
       "20                     0.350000  98.649000           100.000000\n",
       "21                     0.366667  98.649000           100.000000\n",
       "22                     0.383333  98.649000           100.000000\n",
       "23                     0.400000  98.649000           100.000000\n",
       "24                     0.416667  98.649000           100.000000\n",
       "25                     0.433333  98.649000           100.000000\n",
       "26                     0.450000  98.649000           100.000000\n",
       "27                     0.466667  98.649000           100.000000\n",
       "28                     0.483333  98.649000           100.000000\n",
       "29                     0.500000  98.649000           100.000000\n",
       "30                     0.516667  98.649000           100.000000\n",
       "31                     0.533333  98.649000           100.000000\n",
       "32                     0.550000  98.649000           100.000000\n",
       "33                     0.566667  98.640339           100.000000\n",
       "34                     0.583333  98.640339           100.000000\n",
       "35                     0.600000  98.631679           100.000000\n",
       "36                     0.616667  98.657660           100.000000\n",
       "37                     0.633333  98.649000           100.000000\n",
       "38                     0.650000  98.605698           100.000000\n",
       "39                     0.666667  98.571057           100.000000\n",
       "40                     0.683333  98.536416           100.000000\n",
       "41                     0.700000  98.190006           100.000000\n",
       "42                     0.716667  97.653070           100.000000\n",
       "43                     0.733333  97.505846           100.000000\n",
       "44                     0.750000  95.756474           100.000000\n",
       "45                     0.766667  95.202217            99.991340\n",
       "46                     0.783333  94.717243            99.991340\n",
       "47                     0.800000  92.093184            99.991340\n",
       "48                     0.816667  91.495627            99.991340\n",
       "49                     0.833333  91.019312            99.982679\n",
       "50                     0.850000  89.174677            80.739586\n",
       "51                     0.866667  84.437516            77.015675\n",
       "52                     0.883333  76.487399            35.714904\n",
       "53                     0.900000  54.862735             6.954187\n",
       "54                     0.916667  27.089287             0.424353\n",
       "55                     0.933333  13.873733             0.000000\n",
       "56                     0.950000   7.101412             0.000000\n",
       "57                     0.966667   1.550186             0.000000\n",
       "58                     0.983333   0.718801             0.000000\n",
       "59                     1.000000   0.077942             0.000000"
      ]
     },
     "execution_count": 13,
     "metadata": {},
     "output_type": "execute_result"
    }
   ],
   "source": [
    "# Generate table for the Fraction of Pruned Channels, Accuracy and Attack Success Rate\n",
    "x_axis = np.arange(1, 61) / 60\n",
    "table_data = {\n",
    "    'Fraction of Pruned Channels': x_axis,\n",
    "    'Accuracy': pruned_cl_accuracy,\n",
    "    'Attack Success Rate': pruned_bd_asr\n",
    "}\n",
    "table_df = pd.DataFrame(table_data)\n",
    "table_df"
   ]
  },
  {
   "cell_type": "code",
   "execution_count": 14,
   "metadata": {
    "colab": {
     "base_uri": "https://localhost:8080/",
     "height": 312
    },
    "id": "06DL1vGAeKUX",
    "outputId": "03e200a4-005d-4e91-a748-17547c5e76df"
   },
   "outputs": [
    {
     "data": {
      "image/png": "[encoded data removed]",
      "text/plain": [
       "<Figure size 500x400 with 1 Axes>"
      ]
     },
     "metadata": {},
     "output_type": "display_data"
    }
   ],
   "source": [
    "# Plot the accuracy and attack success rate for validation dataset\n",
    "x_axis = np.arange(1, 61) / 60\n",
    "plotdata = {\n",
    "    'Fraction of Pruned Channels': np.tile(x_axis, 2),\n",
    "    'Value': np.concatenate([pruned_cl_accuracy, pruned_bd_asr]),\n",
    "    'Metric': ['Accuracy'] * len(pruned_cl_accuracy) + ['Attack Success Rate'] * len(pruned_bd_asr)\n",
    "}\n",
    "plotdf = pd.DataFrame(plotdata)\n",
    "custom_palette = {'Accuracy': 'green', 'Attack Success Rate': 'red'}\n",
    "plt.figure(figsize=(5, 4))\n",
    "sns.lineplot(data=plotdf, x='Fraction of Pruned Channels', y='Value', hue='Metric', palette=custom_palette)\n",
    "plt.xlabel(\"Fraction of Pruned Channels\")\n",
    "plt.ylabel(\"Value\")\n",
    "plt.title(\"Accuracy and Attack Success Rate for Validation Dataset\")\n",
    "plt.show()"
   ]
  },
  {
   "cell_type": "markdown",
   "metadata": {},
   "source": [
    "## Goodnet G"
   ]
  },
  {
   "cell_type": "markdown",
   "metadata": {},
   "source": [
    "Each test input is run through both B and B'. If the classification outputs of both B and B' are the same then output class is set to one of the output class else the output class is set to (N+1) which is 1283 as discussed before."
   ]
  },
  {
   "cell_type": "code",
   "execution_count": 15,
   "metadata": {
    "id": "6E00xt5RiwVi"
   },
   "outputs": [],
   "source": [
    "class G(keras.Model):\n",
    "    def __init__(self, B, Bprime):\n",
    "        super(G, self).__init__()\n",
    "        self.B = B\n",
    "        self.Bprime = Bprime\n",
    "\n",
    "    def predict(self, data):\n",
    "        y = np.argmax(self.B(data), axis=1)\n",
    "        y_prime = np.argmax(self.Bprime(data), axis=1)\n",
    "        prediction = np.where(y == y_prime, y, 1283)\n",
    "        return prediction\n"
   ]
  },
  {
   "cell_type": "code",
   "execution_count": 16,
   "metadata": {
    "id": "lC0cTvx4rdHP"
   },
   "outputs": [],
   "source": [
    "# Load test dataset \n",
    "cl_x_test, cl_y_test = load_data(clean_test_path)\n",
    "bd_x_test, bd_y_test = load_data(poisoned_test_path)"
   ]
  },
  {
   "cell_type": "code",
   "execution_count": 17,
   "metadata": {},
   "outputs": [
    {
     "name": "stdout",
     "output_type": "stream",
     "text": [
      "WARNING:tensorflow:No training configuration found in the save file, so the model was *not* compiled. Compile it manually.\n",
      "WARNING:tensorflow:No training configuration found in the save file, so the model was *not* compiled. Compile it manually.\n",
      "WARNING:tensorflow:No training configuration found in the save file, so the model was *not* compiled. Compile it manually.\n"
     ]
    }
   ],
   "source": [
    "# Load the repaired B' mdoels\n",
    "repair_models_paths = [\n",
    "    'C:/Users/DR.JAIRAJ/OneDrive/Documents/MLCSLab4/repair_network_2.h5',\n",
    "    'C:/Users/DR.JAIRAJ/OneDrive/Documents/MLCSLab4/repair_network_4.h5',\n",
    "    'C:/Users/DR.JAIRAJ/OneDrive/Documents/MLCSLab4/repair_network_10.h5'\n",
    "]\n",
    "repair_models = [keras.models.load_model(model_filename) for model_filename in repair_models_paths]\n",
    "repair_model_names = [\"repaired_2%\", \"repaired_4%\", \"repaired_10%\"]"
   ]
  },
  {
   "cell_type": "code",
   "execution_count": 18,
   "metadata": {},
   "outputs": [
    {
     "name": "stdout",
     "output_type": "stream",
     "text": [
      "repaired_2% model: Clean Test Data - Classification Accuracy:  95.90023382696803\n",
      "repaired_2% model: Poisoned Test Data - Attack Success Rate:  100.0\n",
      "repaired_4% model: Clean Test Data - Classification Accuracy:  92.29150428682775\n",
      "repaired_4% model: Poisoned Test Data - Attack Success Rate:  99.98441153546376\n",
      "repaired_10% model: Clean Test Data - Classification Accuracy:  84.54403741231489\n",
      "repaired_10% model: Poisoned Test Data - Attack Success Rate:  77.20966484801247\n"
     ]
    }
   ],
   "source": [
    "# Calculate the Metrics for repaired B' network on test dataset\n",
    "def calculate_metrics(new_models, model_names, cl_x_test, cl_y_test, bd_x_test, bd_y_test):\n",
    "    metrics = []\n",
    "    for new_model, model_name in zip(new_models, model_names):\n",
    "        cl_y_test_predict = np.argmax(new_model.predict(cl_x_test, verbose=0), axis=1)\n",
    "        cl_test_accuracy = np.mean(np.equal(cl_y_test_predict, cl_y_test)) * 100\n",
    "        bd_y_test_predict = np.argmax(new_model.predict(bd_x_test, verbose=0), axis=1)\n",
    "        bd_test_asr = np.mean(np.equal(bd_y_test_predict, bd_y_test)) * 100\n",
    "        print(f'{model_name} model: Clean Test Data - Classification Accuracy: ', cl_test_accuracy)\n",
    "        print(f'{model_name} model: Poisoned Test Data - Attack Success Rate: ', bd_test_asr)\n",
    "        metrics.append((cl_test_accuracy, bd_test_asr))\n",
    "    data = {\"Model\": model_names,\n",
    "            \"Accuracy\": [metric[0] for metric in metrics],\n",
    "            \"Attack Success Rate\": [metric[1] for metric in metrics]}\n",
    "    df_metrics = pd.DataFrame(data)\n",
    "    return df_metrics\n",
    "\n",
    "df_repair_metrics = calculate_metrics(repair_models, repair_model_names, cl_x_test, cl_y_test, bd_x_test, bd_y_test)"
   ]
  },
  {
   "cell_type": "code",
   "execution_count": 19,
   "metadata": {},
   "outputs": [
    {
     "data": {
      "text/html": [
       "<div>\n",
       "<style scoped>\n",
       "    .dataframe tbody tr th:only-of-type {\n",
       "        vertical-align: middle;\n",
       "    }\n",
       "\n",
       "    .dataframe tbody tr th {\n",
       "        vertical-align: top;\n",
       "    }\n",
       "\n",
       "    .dataframe thead th {\n",
       "        text-align: right;\n",
       "    }\n",
       "</style>\n",
       "<table border=\"1\" class=\"dataframe\">\n",
       "  <thead>\n",
       "    <tr style=\"text-align: right;\">\n",
       "      <th></th>\n",
       "      <th>Model</th>\n",
       "      <th>Accuracy</th>\n",
       "      <th>Attack Success Rate</th>\n",
       "    </tr>\n",
       "  </thead>\n",
       "  <tbody>\n",
       "    <tr>\n",
       "      <th>0</th>\n",
       "      <td>repaired_2%</td>\n",
       "      <td>95.900234</td>\n",
       "      <td>100.000000</td>\n",
       "    </tr>\n",
       "    <tr>\n",
       "      <th>1</th>\n",
       "      <td>repaired_4%</td>\n",
       "      <td>92.291504</td>\n",
       "      <td>99.984412</td>\n",
       "    </tr>\n",
       "    <tr>\n",
       "      <th>2</th>\n",
       "      <td>repaired_10%</td>\n",
       "      <td>84.544037</td>\n",
       "      <td>77.209665</td>\n",
       "    </tr>\n",
       "  </tbody>\n",
       "</table>\n",
       "</div>"
      ],
      "text/plain": [
       "          Model   Accuracy  Attack Success Rate\n",
       "0   repaired_2%  95.900234           100.000000\n",
       "1   repaired_4%  92.291504            99.984412\n",
       "2  repaired_10%  84.544037            77.209665"
      ]
     },
     "execution_count": 19,
     "metadata": {},
     "output_type": "execute_result"
    }
   ],
   "source": [
    "df_repair_metrics"
   ]
  },
  {
   "cell_type": "code",
   "execution_count": 20,
   "metadata": {},
   "outputs": [
    {
     "data": {
      "image/png": "[encoded data removed]",
      "text/plain": [
       "<Figure size 1000x400 with 2 Axes>"
      ]
     },
     "metadata": {},
     "output_type": "display_data"
    }
   ],
   "source": [
    "# Plot the metrics\n",
    "df_melted = df_repair_metrics.melt(id_vars='Model', var_name='Metrics', value_name='Value')\n",
    "custom_palette = {'Accuracy': 'green', 'Attack Success Rate': 'red'}\n",
    "plt.figure(figsize=(10, 4))\n",
    "plt.xlabel(\"Model\")\n",
    "plt.ylabel(\"Value\")\n",
    "plt.title(\"Comparison of Metrics by Model\")\n",
    "plt.subplot(1, 2, 1)\n",
    "sns.pointplot(data=df_melted, x='Model', y='Value', hue='Metrics', markers=[\"o\", \"x\"], palette=custom_palette)\n",
    "plt.subplot(1, 2, 2)\n",
    "sns.barplot(data=df_melted, x='Model', y='Value', hue='Metrics', width = 0.5, palette=custom_palette)\n",
    "plt.legend(bbox_to_anchor=(1, 1))\n",
    "plt.tight_layout()\n",
    "plt.show()"
   ]
  },
  {
   "cell_type": "code",
   "execution_count": 21,
   "metadata": {},
   "outputs": [],
   "source": [
    "# Generate the goodnet G models \n",
    "combine_models = [G(model, repair_model) for repair_model in repair_models]\n",
    "combine_model_names = [\"combined_2%\", \"combined_4%\", \"combined_10%\"]"
   ]
  },
  {
   "cell_type": "code",
   "execution_count": 22,
   "metadata": {},
   "outputs": [
    {
     "name": "stdout",
     "output_type": "stream",
     "text": [
      "combined_2% model: Clean Test Data - Classification Accuracy:  95.74434918160561\n",
      "combined_2% model: Poisoned Test Data - Attack Success Rate:  100.0\n",
      "combined_4% model: Clean Test Data - Classification Accuracy:  92.1278254091972\n",
      "combined_4% model: Poisoned Test Data - Attack Success Rate:  99.98441153546376\n",
      "combined_10% model: Clean Test Data - Classification Accuracy:  84.3335931410756\n",
      "combined_10% model: Poisoned Test Data - Attack Success Rate:  77.20966484801247\n"
     ]
    }
   ],
   "source": [
    "# Calculate the Metrics for combined Goodnet G models on test dataset\n",
    "def calculate_combined_metrics(new_models, model_names, cl_x_test, cl_y_test, bd_x_test, bd_y_test):\n",
    "    metrics = []\n",
    "    for new_model, model_name in zip(new_models, model_names):\n",
    "        cl_y_test_predict = new_model.predict(cl_x_test)\n",
    "        cl_test_accuracy = np.mean(np.equal(cl_y_test_predict, cl_y_test)) * 100\n",
    "        bd_y_test_predict = new_model.predict(bd_x_test)\n",
    "        bd_test_asr = np.mean(np.equal(bd_y_test_predict, bd_y_test)) * 100\n",
    "        print(f'{model_name} model: Clean Test Data - Classification Accuracy: ', cl_test_accuracy)\n",
    "        print(f'{model_name} model: Poisoned Test Data - Attack Success Rate: ', bd_test_asr)\n",
    "        metrics.append((cl_test_accuracy, bd_test_asr))\n",
    "    data = {\"Model\": model_names,\n",
    "            \"Accuracy\": [metric[0] for metric in metrics],\n",
    "            \"Attack Success Rate\": [metric[1] for metric in metrics]}\n",
    "    df_metrics = pd.DataFrame(data)\n",
    "    return df_metrics\n",
    "\n",
    "df_combine_metrics = calculate_combined_metrics(combine_models, combine_model_names, cl_x_test, cl_y_test, bd_x_test, bd_y_test)"
   ]
  },
  {
   "cell_type": "code",
   "execution_count": 23,
   "metadata": {},
   "outputs": [
    {
     "data": {
      "text/html": [
       "<div>\n",
       "<style scoped>\n",
       "    .dataframe tbody tr th:only-of-type {\n",
       "        vertical-align: middle;\n",
       "    }\n",
       "\n",
       "    .dataframe tbody tr th {\n",
       "        vertical-align: top;\n",
       "    }\n",
       "\n",
       "    .dataframe thead th {\n",
       "        text-align: right;\n",
       "    }\n",
       "</style>\n",
       "<table border=\"1\" class=\"dataframe\">\n",
       "  <thead>\n",
       "    <tr style=\"text-align: right;\">\n",
       "      <th></th>\n",
       "      <th>Model</th>\n",
       "      <th>Accuracy</th>\n",
       "      <th>Attack Success Rate</th>\n",
       "    </tr>\n",
       "  </thead>\n",
       "  <tbody>\n",
       "    <tr>\n",
       "      <th>0</th>\n",
       "      <td>combined_2%</td>\n",
       "      <td>95.744349</td>\n",
       "      <td>100.000000</td>\n",
       "    </tr>\n",
       "    <tr>\n",
       "      <th>1</th>\n",
       "      <td>combined_4%</td>\n",
       "      <td>92.127825</td>\n",
       "      <td>99.984412</td>\n",
       "    </tr>\n",
       "    <tr>\n",
       "      <th>2</th>\n",
       "      <td>combined_10%</td>\n",
       "      <td>84.333593</td>\n",
       "      <td>77.209665</td>\n",
       "    </tr>\n",
       "  </tbody>\n",
       "</table>\n",
       "</div>"
      ],
      "text/plain": [
       "          Model   Accuracy  Attack Success Rate\n",
       "0   combined_2%  95.744349           100.000000\n",
       "1   combined_4%  92.127825            99.984412\n",
       "2  combined_10%  84.333593            77.209665"
      ]
     },
     "execution_count": 23,
     "metadata": {},
     "output_type": "execute_result"
    }
   ],
   "source": [
    "df_combine_metrics"
   ]
  },
  {
   "cell_type": "code",
   "execution_count": 24,
   "metadata": {},
   "outputs": [
    {
     "data": {
      "image/png": "[encoded data removed]",
      "text/plain": [
       "<Figure size 1000x400 with 2 Axes>"
      ]
     },
     "metadata": {},
     "output_type": "display_data"
    }
   ],
   "source": [
    "# Plot the metrics\n",
    "df_melted = df_combine_metrics.melt(id_vars='Model', var_name='Metrics', value_name='Value')\n",
    "custom_palette = {'Accuracy': 'green', 'Attack Success Rate': 'red'}\n",
    "plt.figure(figsize=(10, 4))\n",
    "plt.xlabel(\"Model\")\n",
    "plt.ylabel(\"Value\")\n",
    "plt.title(\"Comparison of Metrics by Model\")\n",
    "plt.subplot(1, 2, 1)\n",
    "sns.pointplot(data=df_melted, x='Model', y='Value', hue='Metrics', markers=[\"o\", \"x\"], palette=custom_palette)\n",
    "plt.subplot(1, 2, 2)\n",
    "sns.barplot(data=df_melted, x='Model', y='Value', hue='Metrics', width = 0.5, palette=custom_palette)\n",
    "plt.legend(bbox_to_anchor=(1, 1))\n",
    "plt.tight_layout()\n",
    "plt.show()"
   ]
  },
  {
   "cell_type": "code",
   "execution_count": null,
   "metadata": {},
   "outputs": [],
   "source": []
  }
 ],
 "metadata": {
  "colab": {
   "machine_shape": "hm",
   "provenance": []
  },
  "kernelspec": {
   "display_name": "Python 3 (ipykernel)",
   "language": "python",
   "name": "python3"
  },
  "language_info": {
   "codemirror_mode": {
    "name": "ipython",
    "version": 3
   },
   "file_extension": ".py",
   "mimetype": "text/x-python",
   "name": "python",
   "nbconvert_exporter": "python",
   "pygments_lexer": "ipython3",
   "version": "3.11.4"
  }
 },
 "nbformat": 4,
 "nbformat_minor": 1
}
